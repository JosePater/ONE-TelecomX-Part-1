{
  "nbformat": 4,
  "nbformat_minor": 0,
  "metadata": {
    "colab": {
      "provenance": [],
      "toc_visible": true,
      "authorship_tag": "ABX9TyPigS6KSHNdFz/EsIf1ysZm",
      "include_colab_link": true
    },
    "kernelspec": {
      "name": "python3",
      "display_name": "Python 3"
    },
    "language_info": {
      "name": "python"
    }
  },
  "cells": [
    {
      "cell_type": "markdown",
      "metadata": {
        "id": "view-in-github",
        "colab_type": "text"
      },
      "source": [
        "<a href=\"https://colab.research.google.com/github/JosePater/ONE-TelecomX-Part-1/blob/main/ONE_Challenge_TelecomX_1.ipynb\" target=\"_parent\"><img src=\"https://colab.research.google.com/assets/colab-badge.svg\" alt=\"Open In Colab\"/></a>"
      ]
    },
    {
      "cell_type": "markdown",
      "source": [
        "# **TELECOM X**"
      ],
      "metadata": {
        "id": "rgMpNbZyKYeo"
      }
    },
    {
      "cell_type": "markdown",
      "source": [
        "## 📌 **Extracción**"
      ],
      "metadata": {
        "id": "QrnDtk6oKk60"
      }
    },
    {
      "cell_type": "markdown",
      "source": [
        "## 🔧 **Transformación**\n"
      ],
      "metadata": {
        "id": "gE-_Xz5YKu4-"
      }
    },
    {
      "cell_type": "markdown",
      "source": [
        "## 📊 **Carga y análisis**"
      ],
      "metadata": {
        "id": "VuRqVoKMLJuA"
      }
    },
    {
      "cell_type": "markdown",
      "source": [
        "## 📄 **Informe final**"
      ],
      "metadata": {
        "id": "0qnvQF-gLeEz"
      }
    }
  ]
}